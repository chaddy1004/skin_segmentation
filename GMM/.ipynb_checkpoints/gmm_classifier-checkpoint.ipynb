{
 "cells": [
  {
   "cell_type": "markdown",
   "metadata": {},
   "source": [
    "# Using GMM Classifier"
   ]
  },
  {
   "cell_type": "code",
   "execution_count": 30,
   "metadata": {},
   "outputs": [],
   "source": [
    "import numpy as np \n",
    "from sklearn.mixture import GaussianMixture as gmm\n",
    "from sklearn.model_selection import train_test_split\n",
    "from sklearn.utils import shuffle\n",
    "import os"
   ]
  },
  {
   "cell_type": "markdown",
   "metadata": {},
   "source": [
    "## Load data and split to train and test"
   ]
  },
  {
   "cell_type": "code",
   "execution_count": 25,
   "metadata": {},
   "outputs": [
    {
     "name": "stdout",
     "output_type": "stream",
     "text": [
      "(245057, 4)\n"
     ]
    }
   ],
   "source": [
    "dataset = np.loadtxt(\"Skin_NonSkin.txt\")\n",
    "print(dataset.shape)"
   ]
  },
  {
   "cell_type": "code",
   "execution_count": 26,
   "metadata": {},
   "outputs": [
    {
     "name": "stdout",
     "output_type": "stream",
     "text": [
      "skins:(50859, 4), nonskins:(194198, 4)\n"
     ]
    }
   ],
   "source": [
    "skins = dataset[dataset[:,-1] == 1]\n",
    "nonskins = dataset[dataset[:,-1] == 2]\n",
    "print(f\"skins:{skins.shape}, nonskins:{nonskins.shape}\")"
   ]
  },
  {
   "cell_type": "markdown",
   "metadata": {},
   "source": [
    "#### Organize data into skin and non-skin, and split into train and test"
   ]
  },
  {
   "cell_type": "code",
   "execution_count": 39,
   "metadata": {},
   "outputs": [
    {
     "name": "stdout",
     "output_type": "stream",
     "text": [
      "Skins- Train:(38144, 3), Test:(12715, 3)\n",
      "Non-Skins- Train:(145648, 3), Test:(48550, 3)\n"
     ]
    }
   ],
   "source": [
    "skin_pixels = skins[:, :3]\n",
    "nonskin_pixels = nonskins[:, :3]\n",
    "skin_train, skin_test = train_test_split(skin_pixels, random_state = 42)\n",
    "skin_train_y = np.ones(skin_train.shape[0])\n",
    "skin_test_y = np.ones(skin_test.shape[0])\n",
    "\n",
    "nonskin_train, nonskin_test = train_test_split(nonskin_pixels)\n",
    "nonskin_train_y = np.zeros(nonskin_train.shape[0])\n",
    "nonskin_test_y = np.zeros(nonskin_test.shape[0])\n",
    "\n",
    "print(f\"Skins- Train:{skin_train.shape}, Test:{skin_test.shape}\")\n",
    "print(f\"Non-Skins- Train:{nonskin_train.shape}, Test:{nonskin_test.shape}\")"
   ]
  },
  {
   "cell_type": "markdown",
   "metadata": {},
   "source": [
    "#### Combine skin and nonskin for both train and test and random shuffle"
   ]
  },
  {
   "cell_type": "code",
   "execution_count": 46,
   "metadata": {},
   "outputs": [
    {
     "name": "stdout",
     "output_type": "stream",
     "text": [
      "X_train:(183792, 3), y_train:(183792,)\n",
      "X_test:(61265, 3), y_test:(61265,)\n"
     ]
    }
   ],
   "source": [
    "X_train = np.concatenate((skin_train, nonskin_train), axis=0)\n",
    "y_train = np.concatenate((skin_train_y, nonskin_train_y), axis=0)\n",
    "print(f\"X_train:{X_train.shape}, y_train:{y_train.shape}\")\n",
    "\n",
    "X_test = np.concatenate((skin_test, nonskin_test), axis=0)\n",
    "y_test = np.concatenate((skin_test_y, nonskin_test_y), axis=0)\n",
    "print(f\"X_test:{X_test.shape}, y_test:{y_test.shape}\")\n",
    "\n"
   ]
  },
  {
   "cell_type": "code",
   "execution_count": null,
   "metadata": {},
   "outputs": [],
   "source": []
  }
 ],
 "metadata": {
  "kernelspec": {
   "display_name": "Python 3",
   "language": "python",
   "name": "python3"
  },
  "language_info": {
   "codemirror_mode": {
    "name": "ipython",
    "version": 3
   },
   "file_extension": ".py",
   "mimetype": "text/x-python",
   "name": "python",
   "nbconvert_exporter": "python",
   "pygments_lexer": "ipython3",
   "version": "3.6.8"
  }
 },
 "nbformat": 4,
 "nbformat_minor": 1
}
